{
 "cells": [
  {
   "cell_type": "code",
   "execution_count": null,
   "id": "67301625-3e6f-4478-a312-4495aab0def7",
   "metadata": {},
   "outputs": [],
   "source": []
  },
  {
   "cell_type": "code",
   "execution_count": null,
   "id": "43d4f168-b93e-4c5a-a116-46e08a81e087",
   "metadata": {},
   "outputs": [],
   "source": [
    "import pandas as pd\n",
    "import numpy as np\n",
    "import re\n",
    "import plotly.express as px\n",
    " \n"
   ]
  },
  {
   "cell_type": "code",
   "execution_count": null,
   "id": "f57e1ffd-06f8-427b-89e5-5f3adca35f84",
   "metadata": {},
   "outputs": [],
   "source": [
    "#loading the data and filling the bkank spot \n",
    "data = pd.read_excel('C://Users//ShalomHarari//Python//Arad//Arad project//data.xlsx')\n",
    "data = data.iloc[:,:24]\n",
    "data['תלונה'].fillna('0',inplace=True)\n",
    "data['new']=0\n",
    "\n",
    "data"
   ]
  },
  {
   "cell_type": "code",
   "execution_count": null,
   "id": "a3365838-6f20-404a-bea0-ffee9b17a7a3",
   "metadata": {
    "tags": []
   },
   "outputs": [],
   "source": [
    "#reorder the dates to 3 new column\n",
    "\n",
    "#data['תאריך'] = data['תאריך'].astype('string')\n",
    "data['day'] = 0\n",
    "data['month'] = 0\n",
    "data['year'] = 0\n",
    "for i in range(len(data)):\n",
    "    try:\n",
    "        data.loc[i,'day'] = data.loc[i,'תאריך'].split('.')[0]\n",
    "        data.loc[i,'month'] = data.loc[i,'תאריך'].split('.')[1]\n",
    "        data.loc[i,'year'] = data.loc[i,'תאריך'].split('.')[2]\n",
    "    except:\n",
    "        continue\n",
    "data\n"
   ]
  },
  {
   "cell_type": "code",
   "execution_count": null,
   "id": "73c59df9-f8c8-4f79-ad8b-fccb37deeda5",
   "metadata": {},
   "outputs": [],
   "source": [
    "#importing the new smaller file for convenient work\n",
    "\n",
    "data = data[['שם פרטי', ' משפחה', 'גיל','תאריך', 'תלונה','day','month','year']]\n",
    "data.to_csv('dataorg.csv')"
   ]
  },
  {
   "cell_type": "code",
   "execution_count": null,
   "id": "0accc504-9055-4b88-9b05-2c65ed70d762",
   "metadata": {},
   "outputs": [],
   "source": [
    "#sorting the data by year \n",
    "\n",
    "data['new']=0\n",
    "data.loc[data['year'].str.contains('12|13|14|15|16|17|18|19|20|21', flags = re.I, regex = True,na=False), 'new']=1\n",
    "data = data[data['new']==1]\n",
    "data "
   ]
  },
  {
   "cell_type": "code",
   "execution_count": null,
   "id": "14cc48d6-bfc0-4d7a-a602-9e5a6da5003a",
   "metadata": {
    "tags": []
   },
   "outputs": [],
   "source": [
    "data = pd.read_excel('C://Users//ShalomHarari//Python//Arad//Arad project//Dataorg.xlsx')\n",
    "data"
   ]
  },
  {
   "cell_type": "code",
   "execution_count": null,
   "id": "fe68445c-0090-46cc-8ec9-884da70b29a3",
   "metadata": {},
   "outputs": [],
   "source": [
    "#filling and replacing the data in column \n",
    "\n",
    "data['year']= data['year'].fillna(0).astype(int)\n",
    "data.drop('Column1', inplace = True , axis =  1)"
   ]
  },
  {
   "cell_type": "code",
   "execution_count": null,
   "id": "4dbb8de2-1efb-4a17-ac7c-e779ce778d90",
   "metadata": {},
   "outputs": [],
   "source": [
    "#reorganizing the years for better use\n",
    "\n",
    "lst = [12,13,14,15,16,17,18,19,20,21]\n",
    "data.loc[0,'year'] in(lst)\n",
    "data['new']=data.apply(lambda row : 1 if row['year'] in lst else 0 , axis = 1)\n",
    "data"
   ]
  },
  {
   "cell_type": "code",
   "execution_count": null,
   "id": "5650a8e3-fd7c-4643-b47f-e7138ef5d8e3",
   "metadata": {},
   "outputs": [],
   "source": [
    "#adding a new column with the years \n",
    "data = data[data['new']==1]\n",
    "data.reset_index(inplace = True , drop = True)\n",
    "data"
   ]
  },
  {
   "cell_type": "code",
   "execution_count": null,
   "id": "24672d6e-1f30-4353-9af0-2e2ef97f40bd",
   "metadata": {},
   "outputs": [],
   "source": [
    "# drop the unnecessary \n",
    "\n",
    "data.drop('new', inplace = True , axis = 1)"
   ]
  },
  {
   "cell_type": "code",
   "execution_count": null,
   "id": "642bad0d-7493-45f5-8dbc-38a2e00d007f",
   "metadata": {},
   "outputs": [],
   "source": [
    "#import again\n",
    "\n",
    "data.to_csv('adcani.csv')"
   ]
  },
  {
   "cell_type": "code",
   "execution_count": null,
   "id": "078fff28-3be7-49c7-8a91-0b7753c68a46",
   "metadata": {},
   "outputs": [],
   "source": [
    "# oppening the new file \n",
    "\n",
    "data = pd.read_excel('C://Users//ShalomHarari//Desktop//Arad project//Dataorg.xlsx')\n",
    "data"
   ]
  },
  {
   "cell_type": "code",
   "execution_count": null,
   "id": "79ed46e6-f25c-413d-b847-e1779c503434",
   "metadata": {},
   "outputs": [],
   "source": [
    "# i organized all the complaint there are into six category using regeax keywords and organized them into one column called new \n",
    "\n",
    "data.loc[data['תלונה'].str.contains('חזה|לחץ|נשימה|שיעול|קוצר|נשמה|אסטמה|אסמה|קושי|קשיי|קושיי|אוויר|ריאות|אויר', flags = re.I, regex = True,na=False), 'new']='דרכי נשימה'\n",
    "data.loc[data['תלונה'].str.contains('כאב|כואב|כאבי|כאבים ', flags = re.I, regex = True,na=False), 'new']='כאב'\n",
    "data.loc[data['תלונה'].str.contains('עצירות|עציר|עצר|שיל|שילוש|שלש|שלשול|שילשול|שלשלוים|משלשל|שילשולי|הקאה|הקאות|מקיא|קיא', flags = re.I, regex = True,na=False), 'new']='שלשולים והקאות'\n",
    "data.loc[data['תלונה'].str.contains('יד|רגל|עור|עצם|אצבע|גוף|זר|נפוח|נפיח|דם|דימום|מדמ|נשיכה|נשך|ננש|מכה|חתך|נחת|חבורה|נפל|נפיל|שבר|נקע|שריטה|חד|סכין|מע|חבלה|נחב|חבול|פצע|פצוע|כוויה|שרפ|נשרף|שורף|שפשו', flags = re.I, regex = True,na=False), 'new']='מכה'\n",
    "data.loc[data['תלונה'].str.contains('פריחה|פרח|מגר|דלקת|גרד|הפרשות|מוגלה', flags = re.I, regex = True,na=False), 'new']='דלקות'\n",
    "data.loc[data['תלונה'].str.contains('אף|אוזן|עין|גרון|לשון|לב|קיבה|כבד|מוח|שריר|תפוס|נתפס|צוואר|עורף|שינים|לשון|נרתיק|איבר', flags = re.I, regex = True,na=False), 'new']='איברים'\n",
    "data.loc[data['תלונה'].str.contains('חום|חם|גבוה|צמרמורות|צמר|זיעה|גלי|קרה|רותח', flags = re.I, regex = True,na=False), 'new']='חום'\n",
    "data['new'].fillna('אחר',inplace =True)\n",
    "data\n",
    "\n"
   ]
  },
  {
   "cell_type": "code",
   "execution_count": null,
   "id": "8907c668-3769-4d8e-860f-9289d4d22fb0",
   "metadata": {},
   "outputs": [],
   "source": [
    "#then i counted the value to see how muce data i lose \n",
    "\n",
    "data['new'].value_counts().sort_values(ascending=False)\n"
   ]
  },
  {
   "cell_type": "code",
   "execution_count": null,
   "id": "948a2ff3-afd9-4c6a-925f-6ad192d5ba66",
   "metadata": {},
   "outputs": [],
   "source": [
    "#the work was done by hear but for the next step of the research i splited the whole data to years and imported them to csv by year \n",
    "\n",
    "data['year']= data['year'].map(str)\n",
    "\n",
    "data.loc[data['year'].str.contains('21', flags = re.I, regex = True,na=False), '1']=1\n",
    "data = data[data['1']==1]\n",
    "data.reset_index(inplace=True,drop=False)\n",
    "data"
   ]
  },
  {
   "cell_type": "code",
   "execution_count": null,
   "id": "a23253c2-1dce-4b7a-b30e-1355b9f84232",
   "metadata": {},
   "outputs": [],
   "source": [
    "#data.iloc[10:50]\n",
    "data['new'].value_counts().sort_values(ascending=False)\n",
    "\n"
   ]
  },
  {
   "cell_type": "code",
   "execution_count": null,
   "id": "d31ac7ae-078c-4e16-a426-e13f3dc7c6dc",
   "metadata": {},
   "outputs": [],
   "source": []
  }
 ],
 "metadata": {
  "kernelspec": {
   "display_name": "Python 3 (ipykernel)",
   "language": "python",
   "name": "python3"
  },
  "language_info": {
   "codemirror_mode": {
    "name": "ipython",
    "version": 3
   },
   "file_extension": ".py",
   "mimetype": "text/x-python",
   "name": "python",
   "nbconvert_exporter": "python",
   "pygments_lexer": "ipython3",
   "version": "3.9.7"
  }
 },
 "nbformat": 4,
 "nbformat_minor": 5
}
